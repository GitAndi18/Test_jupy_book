{
 "cells": [
  {
   "cell_type": "markdown",
   "id": "499f35f1-1199-410f-b8dc-a5e5ce84f424",
   "metadata": {},
   "source": [
    "# Jupy Deconvolve"
   ]
  },
  {
   "cell_type": "code",
   "execution_count": 1,
   "id": "91bc8712-9df4-4849-a085-e23dffe1377e",
   "metadata": {},
   "outputs": [
    {
     "ename": "ModuleNotFoundError",
     "evalue": "No module named 'scipy'",
     "output_type": "error",
     "traceback": [
      "\u001b[1;31m---------------------------------------------------------------------------\u001b[0m",
      "\u001b[1;31mModuleNotFoundError\u001b[0m                       Traceback (most recent call last)",
      "\u001b[1;32m~\\AppData\\Local\\Temp/ipykernel_29104/1844880508.py\u001b[0m in \u001b[0;36m<module>\u001b[1;34m\u001b[0m\n\u001b[0;32m      1\u001b[0m \u001b[1;32mimport\u001b[0m \u001b[0mnumpy\u001b[0m \u001b[1;32mas\u001b[0m \u001b[0mnp\u001b[0m\u001b[1;33m\u001b[0m\u001b[1;33m\u001b[0m\u001b[0m\n\u001b[1;32m----> 2\u001b[1;33m \u001b[1;32mimport\u001b[0m \u001b[0mscipy\u001b[0m\u001b[1;33m.\u001b[0m\u001b[0msignal\u001b[0m\u001b[1;33m\u001b[0m\u001b[1;33m\u001b[0m\u001b[0m\n\u001b[0m\u001b[0;32m      3\u001b[0m \u001b[1;32mimport\u001b[0m \u001b[0mmatplotlib\u001b[0m\u001b[1;33m.\u001b[0m\u001b[0mpyplot\u001b[0m \u001b[1;32mas\u001b[0m \u001b[0mplt\u001b[0m\u001b[1;33m\u001b[0m\u001b[1;33m\u001b[0m\u001b[0m\n\u001b[0;32m      4\u001b[0m \u001b[1;33m\u001b[0m\u001b[0m\n\u001b[0;32m      5\u001b[0m \u001b[1;31m#\u001b[0m\u001b[1;33m\u001b[0m\u001b[1;33m\u001b[0m\u001b[1;33m\u001b[0m\u001b[0m\n",
      "\u001b[1;31mModuleNotFoundError\u001b[0m: No module named 'scipy'"
     ]
    }
   ],
   "source": [
    "import numpy as np\n",
    "import scipy.signal\n",
    "import matplotlib.pyplot as plt\n",
    "\n",
    "#\n",
    "#let the signal be box - like\n",
    "signal = np.repeat([0., 1., 0.], 100) + 0.1*(np.random.random(300) - 0.5)\n",
    "# and use a gaussian filter\n",
    "# the filter should be shorter than the signal\n",
    "# the filter should be such that it 's much bigger then zero everywhere\n",
    "gauss = np.exp(-((np.linspace(0, 30) - 15.) / float(10)) ** 2)\n",
    "print (gauss.min()) # = 0.013 >> 0\n",
    "\n",
    "# calculate the convolution(np.convolve and scipy.signal.convolve identical)\n",
    "# the keywordargument mode = \"same\"\n",
    "#ensures that the convolution spans the same\n",
    "# shape as the input array.\n",
    "#filtered = scipy.signal.convolve(signal, gauss, mode = 'same')\n",
    "filtered = np.convolve(signal, gauss, mode = 'same')\n",
    "\n",
    "deconv, _ = scipy.signal.deconvolve(filtered, gauss)\n",
    "#the deconvolution has n = len(signal) - len(gauss) + 1 points\n",
    "n = len(signal) - len(gauss) + 1\n",
    "# so we need to expand it by\n",
    "s = int((len(signal) - n) / 2)\n",
    "#on both sides.\n",
    "deconv_res = np.zeros(len(signal))\n",
    "deconv_res[s: len(signal) - s - 1] = deconv\n",
    "deconv = deconv_res\n",
    "# now deconv contains the deconvolution\n",
    "# expanded to the original shape(filled with zeros)\n",
    "\n",
    "# # # # Plot # # # #\n",
    "fig, ax = plt.subplots(nrows = 4, figsize = (6, 7))\n",
    "\n",
    "ax[0].plot(signal, color = \"#907700\", label = \"original\", lw = 3)\n",
    "ax[1].plot(gauss, color = \"#68934e\", label = \"gauss filter\", lw = 3)\n",
    "# we need to divide by the sum of the filter window to get the convolution normalized to 1\n",
    "ax[2].plot(filtered  / np.sum(gauss), color = \"#325cab\", label = \"convoluted\", lw = 3)  #  / np.sum(gauss)\n",
    "ax[3].plot(deconv, color = \"#ab4232\", label = \"deconvoluted\", lw = 3)\n",
    "\n",
    "for i in range(len(ax)):\n",
    "    ax[i].set_xlim([0, len(signal)])\n",
    "ax[i].set_ylim([-0.07, 1.2])\n",
    "ax[i].legend(loc = 1, fontsize = 11)\n",
    "if i != len(ax) - 1:\n",
    "    ax[i].set_xticklabels([])\n",
    "\n",
    "#plt.savefig(__file__ + \".png\")\n",
    "plt.show()"
   ]
  },
  {
   "cell_type": "code",
   "execution_count": 24,
   "id": "19a9c345",
   "metadata": {},
   "outputs": [
    {
     "data": {
      "text/plain": [
       "array([0.54633517, 0.87830027, 0.02145973])"
      ]
     },
     "execution_count": 24,
     "metadata": {},
     "output_type": "execute_result"
    }
   ],
   "source": [
    "np.random.random(3)"
   ]
  }
 ],
 "metadata": {
  "kernelspec": {
   "display_name": "Python 3 (ipykernel)",
   "language": "python",
   "name": "python3"
  },
  "language_info": {
   "codemirror_mode": {
    "name": "ipython",
    "version": 3
   },
   "file_extension": ".py",
   "mimetype": "text/x-python",
   "name": "python",
   "nbconvert_exporter": "python",
   "pygments_lexer": "ipython3",
   "version": "3.8.12"
  }
 },
 "nbformat": 4,
 "nbformat_minor": 5
}
